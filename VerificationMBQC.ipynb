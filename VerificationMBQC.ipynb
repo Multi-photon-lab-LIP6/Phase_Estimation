{
 "cells": [
  {
   "cell_type": "code",
   "execution_count": 1,
   "metadata": {},
   "outputs": [],
   "source": [
    "import numpy as np\n",
    "from scipy.stats import binom\n",
    "from scipy import optimize"
   ]
  },
  {
   "cell_type": "code",
   "execution_count": 2,
   "metadata": {},
   "outputs": [],
   "source": [
    "from scipy.stats import binom\n",
    "\n",
    "def B_zk(z, k, p):\n",
    "    \"\"\"Computes B_z,k(p) as the CDF of a binomial distribution.\"\"\"\n",
    "    return binom.cdf(k, z, p)\n",
    "\n",
    "def h_z(k, N, lambd, z):\n",
    "    \"\"\"Computes h_z(k, N, λ) based on the piecewise function using B_z,k(1 - λ).\"\"\"\n",
    "    B_zk_val = B_zk(z, k, 1 - lambd)\n",
    "    if 0 <= z <= k:\n",
    "        return 1\n",
    "    elif k + 1 <= z <= N + 1:\n",
    "        B_z_minus_1_k_val = B_zk(z - 1, k, 1 - lambd)\n",
    "        return ((N - z + 1) * B_zk_val + z * B_z_minus_1_k_val) / (N + 1)\n",
    "    else:\n",
    "        raise ValueError(\"z is out of range\")\n",
    "\n",
    "def g_z(k, N, lambd, z):\n",
    "    \"\"\"Computes g_z(k, N, λ) based on the piecewise function using B_z,k(1 - λ).\"\"\"\n",
    "    B_zk_val = B_zk(z, k, 1 - lambd)\n",
    "    if 0 <= z <= k:\n",
    "        return (N - z + 1) / (N + 1)\n",
    "    elif k + 1 <= z <= N + 1:\n",
    "        return B_zk_val * (N - z + 1) / (N + 1)\n",
    "    else:\n",
    "        raise ValueError(\"z is out of range\")\n",
    "\n",
    "def kappa_z(k, N, delta, lambd, z):\n",
    "    \"\"\"Computes κ_z(k, N, δ) based on h_z and h_{z+1}.\"\"\"\n",
    "    h_z_val = h_z(k, N, lambd, z)\n",
    "    h_z_plus_1_val = h_z(k, N, lambd, z + 1)\n",
    "    return (delta - h_z_plus_1_val) / (h_z_val - h_z_plus_1_val)\n",
    "\n",
    "def zeta_lambda(k, N, delta, z, lambd):\n",
    "    \"\"\"Computes ζ̅_λ(k, N, z, δ) using κ_z and g_z.\"\"\"\n",
    "    kappa = kappa_z(k, N, delta, lambd, z)\n",
    "    g_z_val = g_z(k, N, lambd, z)\n",
    "    g_z_plus_1_val = g_z(k, N, lambd, z + 1)\n",
    "    return (1 - kappa) * g_z_plus_1_val + kappa * g_z_val\n",
    "\n",
    "def find_z_hat(k, N, lambd, delta):\n",
    "    \"\"\"Finds the largest integer z such that h_z(k, N, λ, z) ≥ δ.\"\"\"\n",
    "    z_hat = k\n",
    "    for z in range(N + 1):\n",
    "        if h_z(k, N, lambd, z) >= delta:\n",
    "            z_hat = z\n",
    "    if z_hat == -1:\n",
    "        raise ValueError(\"No z found satisfying h_z(k, N, λ, z) >= δ.\")\n",
    "    return z_hat\n",
    "\n",
    "def epsilon_lambda(k, N, delta, lambd):\n",
    "    \"\"\"Computes ε̅(k, N, δ) using B_z,k(1 - λ).\"\"\"\n",
    "    B_Nk = B_zk(N, k, 1 - lambd)\n",
    "    if delta <= B_Nk:\n",
    "        return 1\n",
    "    else:\n",
    "        z_hat = find_z_hat(k, N, lambd, delta)\n",
    "        zeta = zeta_lambda(k, N, delta, z_hat, lambd)\n",
    "        return 1 - zeta / delta\n",
    "\n",
    "def minimum_test_number(epsilon, delta, lambd, r):\n",
    "    \"\"\"\n",
    "    Implements Algorithm 1 for robust verification with B_z,k(1 - λ).\n",
    "    \n",
    "    Args:\n",
    "        epsilon: ϵ, target bound in the range (0, 1).\n",
    "        delta: δ, error tolerance in the range (0, 1).\n",
    "        lambd: λ, parameter in the range (0, 1).\n",
    "        r: parameter in the range [0, 1].\n",
    "    \n",
    "    Returns:\n",
    "        (k_min, N_min): Tuple of integers representing the minimum k and N.\n",
    "    \"\"\"\n",
    "    if r == 0:\n",
    "        k_min = 0\n",
    "    else:\n",
    "        for k in range(int(1e6)):\n",
    "            M = k\n",
    "            while True:\n",
    "                B_Mk = B_zk(M, k, (1 - lambd) * r * epsilon)\n",
    "                if B_Mk >= 1 - delta:\n",
    "                    if M >= k + 1 and epsilon_lambda(k, M, delta, lambd) <= epsilon:\n",
    "                        break\n",
    "                    M += 1\n",
    "                else:\n",
    "                    break\n",
    "            if M >= k + 1 and epsilon_lambda(k, M, delta, lambd) <= epsilon:\n",
    "                k_min = k\n",
    "                break\n",
    "\n",
    "    N_min = None\n",
    "    for N in range(k_min + 1, int(1e6)):\n",
    "        if epsilon_lambda(k_min, N, delta, lambd) <= epsilon:\n",
    "            N_min = N\n",
    "            break\n",
    "\n",
    "    return k_min, N_min"
   ]
  },
  {
   "cell_type": "code",
   "execution_count": null,
   "metadata": {},
   "outputs": [],
   "source": [
    "# Example parameters\n",
    "epsilon = 0.2\n",
    "delta = 0.01\n",
    "lambd = 0.5  # λ\n",
    "r = 0.5\n",
    "\n",
    "k_min, N_min = minimum_test_number(epsilon, delta, lambd, r)\n",
    "print(f\"Minimum k: {k_min}, Minimum N: {N_min}\")"
   ]
  },
  {
   "cell_type": "code",
   "execution_count": null,
   "metadata": {},
   "outputs": [],
   "source": []
  },
  {
   "cell_type": "code",
   "execution_count": null,
   "metadata": {},
   "outputs": [],
   "source": []
  },
  {
   "cell_type": "code",
   "execution_count": null,
   "metadata": {},
   "outputs": [],
   "source": []
  },
  {
   "cell_type": "code",
   "execution_count": null,
   "metadata": {},
   "outputs": [],
   "source": []
  },
  {
   "cell_type": "code",
   "execution_count": null,
   "metadata": {},
   "outputs": [],
   "source": []
  },
  {
   "cell_type": "code",
   "execution_count": null,
   "metadata": {},
   "outputs": [],
   "source": []
  },
  {
   "cell_type": "code",
   "execution_count": null,
   "metadata": {},
   "outputs": [],
   "source": []
  },
  {
   "cell_type": "code",
   "execution_count": null,
   "metadata": {},
   "outputs": [],
   "source": []
  },
  {
   "cell_type": "code",
   "execution_count": null,
   "metadata": {},
   "outputs": [],
   "source": []
  },
  {
   "cell_type": "code",
   "execution_count": null,
   "metadata": {},
   "outputs": [],
   "source": []
  },
  {
   "cell_type": "code",
   "execution_count": null,
   "metadata": {},
   "outputs": [],
   "source": []
  },
  {
   "cell_type": "code",
   "execution_count": null,
   "metadata": {},
   "outputs": [],
   "source": []
  },
  {
   "cell_type": "code",
   "execution_count": null,
   "metadata": {},
   "outputs": [],
   "source": [
    "def B(k, p):\n",
    "    return lambda M : binom.cdf(k, M, p)\n",
    "\n",
    "def epsilon_l_max(k, M, delta):\n",
    "    return s+1/(v*lambda)*np.sqrt((s*np.log(1/delta))/M)+np.log(1/delta)/(2*v**2*lambda*M)+2/(lambda*N)\n",
    "\n",
    "\n",
    "def verification_algorithm(lambda, epsilon, delta, r):\n",
    "    if r = 0:\n",
    "        k_min = 0\n",
    "    else:\n",
    "        M = 0\n",
    "        while (M < k + 1) & (epsilon_l() > epsilon):\n",
    "            k = 0\n",
    "            p = (1-lambda)*r*epsilon\n",
    "            M = optimize.fsolve(B(k, p), )\n",
    "        \n",
    "        \n",
    "            \n",
    "    return N_min, k_min"
   ]
  },
  {
   "cell_type": "code",
   "execution_count": 3,
   "metadata": {},
   "outputs": [],
   "source": [
    "def N_min_analytic(delta, epsilon):\n",
    "    return 144*(np.log(1/delta+0.5))/epsilon\n",
    "\n",
    "def N_min_numeric(delta, epsilon):\n",
    "    return 67*np.log(1/delta)/epsilon"
   ]
  },
  {
   "cell_type": "code",
   "execution_count": 6,
   "metadata": {},
   "outputs": [
    {
     "data": {
      "text/plain": [
       "11064.378545997914"
      ]
     },
     "execution_count": 6,
     "metadata": {},
     "output_type": "execute_result"
    }
   ],
   "source": [
    "N_min_analytic(0.01, 0.06)"
   ]
  },
  {
   "cell_type": "code",
   "execution_count": 7,
   "metadata": {},
   "outputs": [
    {
     "data": {
      "text/plain": [
       "5142.440041020036"
      ]
     },
     "execution_count": 7,
     "metadata": {},
     "output_type": "execute_result"
    }
   ],
   "source": [
    "N_min_numeric(0.01, 0.06)"
   ]
  },
  {
   "cell_type": "code",
   "execution_count": 28,
   "metadata": {},
   "outputs": [
    {
     "name": "stdout",
     "output_type": "stream",
     "text": [
      "Time for each data point: 25.0 hours\n"
     ]
    }
   ],
   "source": [
    "total_data = (3000*20)\n",
    "time_per_state = 1.5\n",
    "time_per_sensing_round = total_data*time_per_state/3600\n",
    "print(f\"Time for each data point: {time_per_sensing_round} hours\")"
   ]
  },
  {
   "cell_type": "code",
   "execution_count": null,
   "metadata": {},
   "outputs": [
    {
     "name": "stdout",
     "output_type": "stream",
     "text": [
      "0.962002418242284\n"
     ]
    }
   ],
   "source": [
    "M = 3000\n",
    "f = 0.03 # increasing f will increase the confidence level. does this make sense?\n",
    "k = f*M\n",
    "r = 1/2 # increasing robustness will decrease the confidence level... does this make sense?\n",
    "epsilon = 0.1\n",
    "p = 1/2*r*epsilon\n",
    "confidence_level = binom.cdf(k, M, p)\n",
    "print(confidence_level)"
   ]
  },
  {
   "cell_type": "code",
   "execution_count": null,
   "metadata": {},
   "outputs": [],
   "source": []
  }
 ],
 "metadata": {
  "kernelspec": {
   "display_name": "tomography",
   "language": "python",
   "name": "python3"
  },
  "language_info": {
   "codemirror_mode": {
    "name": "ipython",
    "version": 3
   },
   "file_extension": ".py",
   "mimetype": "text/x-python",
   "name": "python",
   "nbconvert_exporter": "python",
   "pygments_lexer": "ipython3",
   "version": "3.8.12"
  }
 },
 "nbformat": 4,
 "nbformat_minor": 4
}
